# La siguiente linea permite visualizar figuras matplotlib en el notebook.
%matplotlib inline
import matplotlib.pyplot as plt
import numpy as np

x = np.linspace(0, 3*np.pi, 500)
a = plt.plot(x, np.sin(x**2))
plt.title('A simple chirp');
plt.figtext(0,1,'Esquina 1')
plt.figtext(1,1,'Esquina 2')
fig = plt.gcf()
fig.set_size_inches(20.5,5.5)
ax = plt.gca()

ax.set_xlabel('Tiempo')
ax.set_ylabel('Amplitud')
